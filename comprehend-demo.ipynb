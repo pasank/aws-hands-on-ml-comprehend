{
 "cells": [
  {
   "cell_type": "markdown",
   "metadata": {},
   "source": [
    "##### NOTE:\n",
    "1. Ensure ComprehendFullAccess Policy has been attached to the IAM Role that SageMaker uses\n",
    "2. Ensure SageMaker has access to the S3 Bucket defined in 'DATA_BUCKET' below, and has an appropriate S3 Policy (e.g. AmazonS3FullAccess) attached to the IAM Role that SageMaker uses"
   ]
  },
  {
   "cell_type": "code",
   "execution_count": 1,
   "metadata": {},
   "outputs": [],
   "source": [
    "import pandas as pd\n",
    "from collections import OrderedDict\n",
    "import requests\n",
    "from sklearn import metrics\n",
    "import boto3"
   ]
  },
  {
   "cell_type": "code",
   "execution_count": 19,
   "metadata": {},
   "outputs": [],
   "source": [
    "REGION = 'us-east-1'\n",
    "\n",
    "DATA_ACCESS_ROLE_ARN = 'arn:aws:iam::590808818194:role/service-role/AmazonSageMaker-ExecutionRole-20190109T112988'\n",
    "DATA_BUCKET = 'svn-handson-ml-comprehend'\n",
    "IMDB_DATA_PREFIX = 'imdb-dataset.csv'\n",
    "TOPICS_OUTPUT_PREFIX = 'imdb-topics'\n",
    "\n",
    "SAMPLE_SIZE = 1000\n",
    "MAX_TEXT_LENGTH = 4900\n",
    "BATCH_SIZE = 25\n",
    "PREDICTION_THRESHOLD = 0.5"
   ]
  },
  {
   "cell_type": "markdown",
   "metadata": {},
   "source": [
    "##### Get a client to access the AWS Comprehend API"
   ]
  },
  {
   "cell_type": "code",
   "execution_count": 3,
   "metadata": {},
   "outputs": [],
   "source": [
    "comprehend = boto3.client('comprehend', region_name=REGION)"
   ]
  },
  {
   "cell_type": "markdown",
   "metadata": {},
   "source": [
    "##### Sample sentence to demonstrate key Comprehend functionalities"
   ]
  },
  {
   "cell_type": "code",
   "execution_count": 4,
   "metadata": {},
   "outputs": [],
   "source": [
    "sample_sentence = \"It’s always a great day when I can randomly put my equestrian knowledge to good use at work! #AWS #BePeculiar\""
   ]
  },
  {
   "cell_type": "markdown",
   "metadata": {},
   "source": [
    "##### Key phrase detection"
   ]
  },
  {
   "cell_type": "code",
   "execution_count": 5,
   "metadata": {},
   "outputs": [
    {
     "name": "stdout",
     "output_type": "stream",
     "text": [
      "{'Score': 0.9999999403953552, 'Text': 'a great day', 'BeginOffset': 12, 'EndOffset': 23}\n",
      "{'Score': 1.0, 'Text': 'my equestrian knowledge', 'BeginOffset': 48, 'EndOffset': 71}\n",
      "{'Score': 0.9999207258224487, 'Text': 'good use', 'BeginOffset': 75, 'EndOffset': 83}\n",
      "{'Score': 0.9999996423721313, 'Text': 'work', 'BeginOffset': 87, 'EndOffset': 91}\n"
     ]
    }
   ],
   "source": [
    "phrases = comprehend.detect_key_phrases(Text=sample_sentence, LanguageCode='en')\n",
    "for phrase in phrases['KeyPhrases']:\n",
    "    print(phrase)"
   ]
  },
  {
   "cell_type": "markdown",
   "metadata": {},
   "source": [
    "##### Named Entity Recognition"
   ]
  },
  {
   "cell_type": "code",
   "execution_count": 6,
   "metadata": {},
   "outputs": [
    {
     "name": "stdout",
     "output_type": "stream",
     "text": [
      "{'Score': 0.6978814601898193, 'Type': 'TITLE', 'Text': '#AWS', 'BeginOffset': 93, 'EndOffset': 97}\n"
     ]
    }
   ],
   "source": [
    "entities = comprehend.detect_entities(Text=sample_sentence, LanguageCode='en')\n",
    "for entity in entities['Entities']:\n",
    "    print(entity)"
   ]
  },
  {
   "cell_type": "markdown",
   "metadata": {},
   "source": [
    "##### Sentiment Analysis"
   ]
  },
  {
   "cell_type": "code",
   "execution_count": 7,
   "metadata": {},
   "outputs": [
    {
     "name": "stdout",
     "output_type": "stream",
     "text": [
      "{'Positive': 0.9861279726028442, 'Negative': 0.0001362226321361959, 'Neutral': 0.013735050335526466, 'Mixed': 6.885450147819938e-07}\n"
     ]
    }
   ],
   "source": [
    "sentiment = comprehend.detect_sentiment(Text=sample_sentence, LanguageCode='en')\n",
    "print(sentiment['SentimentScore'])"
   ]
  },
  {
   "cell_type": "markdown",
   "metadata": {},
   "source": [
    "##### Read IMDB dataset from S3 into a pandas dataframe"
   ]
  },
  {
   "cell_type": "code",
   "execution_count": 8,
   "metadata": {},
   "outputs": [
    {
     "data": {
      "text/html": [
       "<div>\n",
       "<style scoped>\n",
       "    .dataframe tbody tr th:only-of-type {\n",
       "        vertical-align: middle;\n",
       "    }\n",
       "\n",
       "    .dataframe tbody tr th {\n",
       "        vertical-align: top;\n",
       "    }\n",
       "\n",
       "    .dataframe thead th {\n",
       "        text-align: right;\n",
       "    }\n",
       "</style>\n",
       "<table border=\"1\" class=\"dataframe\">\n",
       "  <thead>\n",
       "    <tr style=\"text-align: right;\">\n",
       "      <th></th>\n",
       "      <th>review</th>\n",
       "      <th>sentiment</th>\n",
       "    </tr>\n",
       "  </thead>\n",
       "  <tbody>\n",
       "    <tr>\n",
       "      <th>0</th>\n",
       "      <td>One of the other reviewers has mentioned that ...</td>\n",
       "      <td>positive</td>\n",
       "    </tr>\n",
       "    <tr>\n",
       "      <th>1</th>\n",
       "      <td>A wonderful little production. &lt;br /&gt;&lt;br /&gt;The...</td>\n",
       "      <td>positive</td>\n",
       "    </tr>\n",
       "    <tr>\n",
       "      <th>2</th>\n",
       "      <td>I thought this was a wonderful way to spend ti...</td>\n",
       "      <td>positive</td>\n",
       "    </tr>\n",
       "    <tr>\n",
       "      <th>3</th>\n",
       "      <td>Basically there's a family where a little boy ...</td>\n",
       "      <td>negative</td>\n",
       "    </tr>\n",
       "    <tr>\n",
       "      <th>4</th>\n",
       "      <td>Petter Mattei's \"Love in the Time of Money\" is...</td>\n",
       "      <td>positive</td>\n",
       "    </tr>\n",
       "  </tbody>\n",
       "</table>\n",
       "</div>"
      ],
      "text/plain": [
       "                                              review sentiment\n",
       "0  One of the other reviewers has mentioned that ...  positive\n",
       "1  A wonderful little production. <br /><br />The...  positive\n",
       "2  I thought this was a wonderful way to spend ti...  positive\n",
       "3  Basically there's a family where a little boy ...  negative\n",
       "4  Petter Mattei's \"Love in the Time of Money\" is...  positive"
      ]
     },
     "execution_count": 8,
     "metadata": {},
     "output_type": "execute_result"
    }
   ],
   "source": [
    "s3 = boto3.client('s3')\n",
    "obj = s3.get_object(Bucket=DATA_BUCKET, Key=IMDB_DATA_PREFIX)\n",
    "\n",
    "df = pd.read_csv(obj['Body'])\n",
    "df.head()"
   ]
  },
  {
   "cell_type": "markdown",
   "metadata": {},
   "source": [
    "##### Alternative method of reading dataset to dataframe"
   ]
  },
  {
   "cell_type": "code",
   "execution_count": 9,
   "metadata": {},
   "outputs": [],
   "source": [
    "# df = pd.read_csv('s3://svn-handson-ml-comprehend/imdb-dataset.csv')"
   ]
  },
  {
   "cell_type": "markdown",
   "metadata": {},
   "source": [
    "##### Detecting sentiment of one review"
   ]
  },
  {
   "cell_type": "code",
   "execution_count": 10,
   "metadata": {},
   "outputs": [
    {
     "name": "stdout",
     "output_type": "stream",
     "text": [
      "Review: 24884\n",
      "\n",
      "Review Text: I have seen this movie and even though I kind of knew who the killer was from the beginning I still liked watching it. I would recommend it to other people. It comes on Lifetime movie network quite a lot. And I am thinking since it's close to Halloween they might play it more. So please be on the look out for it if you are interested in watching it. I believe that Alicia Silverstone played her part very well. I really like her as an actress and person. She seems so nice and down to earth. Kevin Dillon he's performance was so so for me. I am not trying to knock him or anything but I believe that his brother Matt would have been able to pull this bad evil serial killer persona better. Kevin just seems too sweet for me. But I think he did okay.\n",
      "\n",
      "Predicted sentiment: {'Positive': 0.9948318004608154, 'Negative': 0.0011038831435143948, 'Neutral': 0.004045231267809868, 'Mixed': 1.911084291350562e-05},\n",
      "\n",
      "Actual sentiment: positive\n"
     ]
    }
   ],
   "source": [
    "import random as rand\n",
    "\n",
    "review_number = rand.randint(1,len(df))\n",
    "\n",
    "sample_review_object = df.iloc[review_number, ]\n",
    "sample_review_text = sample_review_object['review']\n",
    "\n",
    "sample_review_sentiment = comprehend.detect_sentiment(Text=sample_review_text, LanguageCode='en')\n",
    "\n",
    "print(f\"Review: {review_number}\\n\\n\\\n",
    "Review Text: {sample_review_text}\\n\\n\\\n",
    "Predicted sentiment: {sample_review_sentiment['SentimentScore']},\\n\\n\\\n",
    "Actual sentiment: {sample_review_object['sentiment']}\")"
   ]
  },
  {
   "cell_type": "markdown",
   "metadata": {},
   "source": [
    "##### Detecting sentiment of a batch of texts: Preprocessing"
   ]
  },
  {
   "cell_type": "code",
   "execution_count": 11,
   "metadata": {},
   "outputs": [],
   "source": [
    "df_sample = df.head(n=SAMPLE_SIZE).copy()\n",
    "df_sample['label'] = df_sample['sentiment'].apply(lambda x: 1 if x == 'positive' else 0)\n",
    "df_sample['review_processed'] = df_sample['review'].apply(lambda x: x[:MAX_TEXT_LENGTH])"
   ]
  },
  {
   "cell_type": "markdown",
   "metadata": {},
   "source": [
    "##### Detecting sentiment of each batch"
   ]
  },
  {
   "cell_type": "code",
   "execution_count": 12,
   "metadata": {},
   "outputs": [
    {
     "name": "stdout",
     "output_type": "stream",
     "text": [
      "Processing batch 0\n",
      "Processing batch 5\n",
      "Processing batch 10\n",
      "Processing batch 15\n",
      "Processing batch 20\n",
      "Processing batch 25\n",
      "Processing batch 30\n",
      "Processing batch 35\n"
     ]
    }
   ],
   "source": [
    "batch_size = BATCH_SIZE\n",
    "max_batch_index = SAMPLE_SIZE // batch_size\n",
    "results = []\n",
    "\n",
    "for batch_index in range(max_batch_index):\n",
    "    if batch_index % 5 == 0:\n",
    "        print(f\"Processing batch {batch_index}\")\n",
    "        \n",
    "    batch_text_list = df_sample.iloc[batch_index*BATCH_SIZE:batch_index*BATCH_SIZE + batch_size,:]['review_processed'].tolist()\n",
    "    results.extend(comprehend.batch_detect_sentiment(TextList=batch_text_list, LanguageCode='en')['ResultList'])"
   ]
  },
  {
   "cell_type": "markdown",
   "metadata": {},
   "source": [
    "##### Creating `sentiment_pred` column in DataFrame by using the 'Positive' scores reported"
   ]
  },
  {
   "cell_type": "code",
   "execution_count": 13,
   "metadata": {},
   "outputs": [],
   "source": [
    "df_sample['sentiment_pred'] = pd.Series([result['SentimentScore']['Positive'] for result in results])"
   ]
  },
  {
   "cell_type": "markdown",
   "metadata": {},
   "source": [
    "##### Sanity Check"
   ]
  },
  {
   "cell_type": "code",
   "execution_count": 14,
   "metadata": {},
   "outputs": [
    {
     "data": {
      "text/html": [
       "<div>\n",
       "<style scoped>\n",
       "    .dataframe tbody tr th:only-of-type {\n",
       "        vertical-align: middle;\n",
       "    }\n",
       "\n",
       "    .dataframe tbody tr th {\n",
       "        vertical-align: top;\n",
       "    }\n",
       "\n",
       "    .dataframe thead th {\n",
       "        text-align: right;\n",
       "    }\n",
       "</style>\n",
       "<table border=\"1\" class=\"dataframe\">\n",
       "  <thead>\n",
       "    <tr style=\"text-align: right;\">\n",
       "      <th></th>\n",
       "      <th>review</th>\n",
       "      <th>label</th>\n",
       "      <th>sentiment_pred</th>\n",
       "    </tr>\n",
       "  </thead>\n",
       "  <tbody>\n",
       "    <tr>\n",
       "      <th>0</th>\n",
       "      <td>One of the other reviewers has mentioned that ...</td>\n",
       "      <td>1</td>\n",
       "      <td>0.965475</td>\n",
       "    </tr>\n",
       "    <tr>\n",
       "      <th>1</th>\n",
       "      <td>A wonderful little production. &lt;br /&gt;&lt;br /&gt;The...</td>\n",
       "      <td>1</td>\n",
       "      <td>0.998547</td>\n",
       "    </tr>\n",
       "    <tr>\n",
       "      <th>2</th>\n",
       "      <td>I thought this was a wonderful way to spend ti...</td>\n",
       "      <td>1</td>\n",
       "      <td>0.815299</td>\n",
       "    </tr>\n",
       "    <tr>\n",
       "      <th>3</th>\n",
       "      <td>Basically there's a family where a little boy ...</td>\n",
       "      <td>0</td>\n",
       "      <td>0.454442</td>\n",
       "    </tr>\n",
       "    <tr>\n",
       "      <th>4</th>\n",
       "      <td>Petter Mattei's \"Love in the Time of Money\" is...</td>\n",
       "      <td>1</td>\n",
       "      <td>0.987859</td>\n",
       "    </tr>\n",
       "    <tr>\n",
       "      <th>5</th>\n",
       "      <td>Probably my all-time favorite movie, a story o...</td>\n",
       "      <td>1</td>\n",
       "      <td>0.996241</td>\n",
       "    </tr>\n",
       "    <tr>\n",
       "      <th>6</th>\n",
       "      <td>I sure would like to see a resurrection of a u...</td>\n",
       "      <td>1</td>\n",
       "      <td>0.902598</td>\n",
       "    </tr>\n",
       "    <tr>\n",
       "      <th>7</th>\n",
       "      <td>This show was an amazing, fresh &amp; innovative i...</td>\n",
       "      <td>0</td>\n",
       "      <td>0.014710</td>\n",
       "    </tr>\n",
       "    <tr>\n",
       "      <th>8</th>\n",
       "      <td>Encouraged by the positive comments about this...</td>\n",
       "      <td>0</td>\n",
       "      <td>0.014309</td>\n",
       "    </tr>\n",
       "    <tr>\n",
       "      <th>9</th>\n",
       "      <td>If you like original gut wrenching laughter yo...</td>\n",
       "      <td>1</td>\n",
       "      <td>0.999517</td>\n",
       "    </tr>\n",
       "  </tbody>\n",
       "</table>\n",
       "</div>"
      ],
      "text/plain": [
       "                                              review  label  sentiment_pred\n",
       "0  One of the other reviewers has mentioned that ...      1        0.965475\n",
       "1  A wonderful little production. <br /><br />The...      1        0.998547\n",
       "2  I thought this was a wonderful way to spend ti...      1        0.815299\n",
       "3  Basically there's a family where a little boy ...      0        0.454442\n",
       "4  Petter Mattei's \"Love in the Time of Money\" is...      1        0.987859\n",
       "5  Probably my all-time favorite movie, a story o...      1        0.996241\n",
       "6  I sure would like to see a resurrection of a u...      1        0.902598\n",
       "7  This show was an amazing, fresh & innovative i...      0        0.014710\n",
       "8  Encouraged by the positive comments about this...      0        0.014309\n",
       "9  If you like original gut wrenching laughter yo...      1        0.999517"
      ]
     },
     "execution_count": 14,
     "metadata": {},
     "output_type": "execute_result"
    }
   ],
   "source": [
    "df_sample[['review', 'label', 'sentiment_pred']].head(n=10)"
   ]
  },
  {
   "cell_type": "markdown",
   "metadata": {},
   "source": [
    "##### Calculating accuracy metrics: AUC"
   ]
  },
  {
   "cell_type": "code",
   "execution_count": 15,
   "metadata": {},
   "outputs": [],
   "source": [
    "true_values = df_sample['label']\n",
    "predicted_values = df_sample['sentiment_pred']"
   ]
  },
  {
   "cell_type": "code",
   "execution_count": 23,
   "metadata": {},
   "outputs": [
    {
     "name": "stdout",
     "output_type": "stream",
     "text": [
      "0.8867475469901879\n"
     ]
    }
   ],
   "source": [
    "fpr, tpr, thresholds = metrics.roc_curve(true_values, predicted_values, pos_label=1)\n",
    "roc_auc = metrics.auc(fpr, tpr)\n",
    "print(roc_auc)"
   ]
  },
  {
   "cell_type": "markdown",
   "metadata": {},
   "source": [
    "##### Plot ROC curve"
   ]
  },
  {
   "cell_type": "code",
   "execution_count": 24,
   "metadata": {},
   "outputs": [
    {
     "data": {
      "image/png": "[encoded data removed]",
      "text/plain": [
       "<Figure size 432x288 with 1 Axes>"
      ]
     },
     "metadata": {},
     "output_type": "display_data"
    }
   ],
   "source": [
    "import matplotlib.pyplot as plt\n",
    "plt.title('Receiver Operating Characteristic')\n",
    "plt.plot(fpr, tpr, 'b', label = 'AUC = %0.2f' % roc_auc)\n",
    "plt.legend(loc = 'lower right')\n",
    "plt.plot([0, 1], [0, 1],'r--')\n",
    "plt.xlim([0, 1])\n",
    "plt.ylim([0, 1])\n",
    "plt.ylabel('True Positive Rate')\n",
    "plt.xlabel('False Positive Rate')\n",
    "plt.show()"
   ]
  },
  {
   "cell_type": "markdown",
   "metadata": {},
   "source": [
    "##### Calculating accuracy metrics: Precision and Recall"
   ]
  },
  {
   "cell_type": "code",
   "execution_count": 17,
   "metadata": {},
   "outputs": [
    {
     "name": "stdout",
     "output_type": "stream",
     "text": [
      "Precision: 0.8082474226804124,\n",
      "Recall: 0.782435129740519\n"
     ]
    }
   ],
   "source": [
    "predicted_values_binary = df_sample['sentiment_pred'].apply(lambda x: 1 if x > 0.5 else 0)\n",
    "\n",
    "print(f\"Precision: {metrics.precision_score(true_values, predicted_values_binary)},\\n\\\n",
    "Recall: {metrics.recall_score(true_values, predicted_values_binary)}\") "
   ]
  },
  {
   "cell_type": "markdown",
   "metadata": {},
   "source": [
    "##### Topic Detection"
   ]
  },
  {
   "cell_type": "code",
   "execution_count": 20,
   "metadata": {},
   "outputs": [
    {
     "ename": "ClientError",
     "evalue": "An error occurred (AccessDeniedException) when calling the StartTopicsDetectionJob operation: User: arn:aws:sts::590808818194:assumed-role/AmazonSageMaker-ExecutionRole-20190109T112988/SageMaker is not authorized to perform: iam:PassRole on resource: arn:aws:iam::590808818194:role/service-role/AmazonSageMaker-ExecutionRole-20190109T112988",
     "output_type": "error",
     "traceback": [
      "\u001b[0;31m---------------------------------------------------------------------------\u001b[0m",
      "\u001b[0;31mClientError\u001b[0m                               Traceback (most recent call last)",
      "\u001b[0;32m<ipython-input-20-7e2cb06a4909>\u001b[0m in \u001b[0;36m<module>\u001b[0;34m()\u001b[0m\n\u001b[1;32m     16\u001b[0m                                                  \u001b[0mOutputDataConfig\u001b[0m\u001b[0;34m=\u001b[0m\u001b[0moutput_data_config\u001b[0m\u001b[0;34m,\u001b[0m\u001b[0;34m\u001b[0m\u001b[0m\n\u001b[1;32m     17\u001b[0m                                                  \u001b[0mDataAccessRoleArn\u001b[0m\u001b[0;34m=\u001b[0m\u001b[0mdata_access_role_arn\u001b[0m\u001b[0;34m,\u001b[0m\u001b[0;34m\u001b[0m\u001b[0m\n\u001b[0;32m---> 18\u001b[0;31m                                                  JobName=job_name)\n\u001b[0m\u001b[1;32m     19\u001b[0m \u001b[0;34m\u001b[0m\u001b[0m\n\u001b[1;32m     20\u001b[0m \u001b[0;31m# Gets job_id\u001b[0m\u001b[0;34m\u001b[0m\u001b[0;34m\u001b[0m\u001b[0m\n",
      "\u001b[0;32m~/anaconda3/envs/python3/lib/python3.6/site-packages/botocore/client.py\u001b[0m in \u001b[0;36m_api_call\u001b[0;34m(self, *args, **kwargs)\u001b[0m\n\u001b[1;32m    314\u001b[0m                     \"%s() only accepts keyword arguments.\" % py_operation_name)\n\u001b[1;32m    315\u001b[0m             \u001b[0;31m# The \"self\" in this scope is referring to the BaseClient.\u001b[0m\u001b[0;34m\u001b[0m\u001b[0;34m\u001b[0m\u001b[0m\n\u001b[0;32m--> 316\u001b[0;31m             \u001b[0;32mreturn\u001b[0m \u001b[0mself\u001b[0m\u001b[0;34m.\u001b[0m\u001b[0m_make_api_call\u001b[0m\u001b[0;34m(\u001b[0m\u001b[0moperation_name\u001b[0m\u001b[0;34m,\u001b[0m \u001b[0mkwargs\u001b[0m\u001b[0;34m)\u001b[0m\u001b[0;34m\u001b[0m\u001b[0m\n\u001b[0m\u001b[1;32m    317\u001b[0m \u001b[0;34m\u001b[0m\u001b[0m\n\u001b[1;32m    318\u001b[0m         \u001b[0m_api_call\u001b[0m\u001b[0;34m.\u001b[0m\u001b[0m__name__\u001b[0m \u001b[0;34m=\u001b[0m \u001b[0mstr\u001b[0m\u001b[0;34m(\u001b[0m\u001b[0mpy_operation_name\u001b[0m\u001b[0;34m)\u001b[0m\u001b[0;34m\u001b[0m\u001b[0m\n",
      "\u001b[0;32m~/anaconda3/envs/python3/lib/python3.6/site-packages/botocore/client.py\u001b[0m in \u001b[0;36m_make_api_call\u001b[0;34m(self, operation_name, api_params)\u001b[0m\n\u001b[1;32m    624\u001b[0m             \u001b[0merror_code\u001b[0m \u001b[0;34m=\u001b[0m \u001b[0mparsed_response\u001b[0m\u001b[0;34m.\u001b[0m\u001b[0mget\u001b[0m\u001b[0;34m(\u001b[0m\u001b[0;34m\"Error\"\u001b[0m\u001b[0;34m,\u001b[0m \u001b[0;34m{\u001b[0m\u001b[0;34m}\u001b[0m\u001b[0;34m)\u001b[0m\u001b[0;34m.\u001b[0m\u001b[0mget\u001b[0m\u001b[0;34m(\u001b[0m\u001b[0;34m\"Code\"\u001b[0m\u001b[0;34m)\u001b[0m\u001b[0;34m\u001b[0m\u001b[0m\n\u001b[1;32m    625\u001b[0m             \u001b[0merror_class\u001b[0m \u001b[0;34m=\u001b[0m \u001b[0mself\u001b[0m\u001b[0;34m.\u001b[0m\u001b[0mexceptions\u001b[0m\u001b[0;34m.\u001b[0m\u001b[0mfrom_code\u001b[0m\u001b[0;34m(\u001b[0m\u001b[0merror_code\u001b[0m\u001b[0;34m)\u001b[0m\u001b[0;34m\u001b[0m\u001b[0m\n\u001b[0;32m--> 626\u001b[0;31m             \u001b[0;32mraise\u001b[0m \u001b[0merror_class\u001b[0m\u001b[0;34m(\u001b[0m\u001b[0mparsed_response\u001b[0m\u001b[0;34m,\u001b[0m \u001b[0moperation_name\u001b[0m\u001b[0;34m)\u001b[0m\u001b[0;34m\u001b[0m\u001b[0m\n\u001b[0m\u001b[1;32m    627\u001b[0m         \u001b[0;32melse\u001b[0m\u001b[0;34m:\u001b[0m\u001b[0;34m\u001b[0m\u001b[0m\n\u001b[1;32m    628\u001b[0m             \u001b[0;32mreturn\u001b[0m \u001b[0mparsed_response\u001b[0m\u001b[0;34m\u001b[0m\u001b[0m\n",
      "\u001b[0;31mClientError\u001b[0m: An error occurred (AccessDeniedException) when calling the StartTopicsDetectionJob operation: User: arn:aws:sts::590808818194:assumed-role/AmazonSageMaker-ExecutionRole-20190109T112988/SageMaker is not authorized to perform: iam:PassRole on resource: arn:aws:iam::590808818194:role/service-role/AmazonSageMaker-ExecutionRole-20190109T112988"
     ]
    }
   ],
   "source": [
    "# Start topics detection job setting\n",
    "input_s3_url = \"s3://\" + DATA_BUCKET + \"/\" + IMDB_DATA_PREFIX\n",
    "input_doc_format = \"ONE_DOC_PER_LINE\"\n",
    "output_s3_url = \"s3:/\" + DATA_BUCKET + \"/\" + TOPICS_OUTPUT_PREFIX\n",
    "\n",
    "data_access_role_arn = DATA_ACCESS_ROLE_ARN\n",
    "number_of_topics = 10\n",
    "job_name = \"IMDB_Topic_Modelling_Job\"\n",
    "\n",
    "input_data_config = {\"S3Uri\": input_s3_url, \"InputFormat\": input_doc_format}\n",
    "output_data_config = {\"S3Uri\": output_s3_url}\n",
    "\n",
    "# Starts an asynchronous topic detection job.\n",
    "response = comprehend.start_topics_detection_job(NumberOfTopics=number_of_topics,\n",
    "                                                 InputDataConfig=input_data_config,\n",
    "                                                 OutputDataConfig=output_data_config,\n",
    "                                                 DataAccessRoleArn=data_access_role_arn,\n",
    "                                                 JobName=job_name)\n",
    "\n",
    "# Gets job_id\n",
    "job_id = response[\"JobId\"]\n",
    "print('job_id: ' + job_id)\n",
    "\n",
    "# It loops until JobStatus becomes 'COMPLETED' or 'FAILED'.\n",
    "while True:\n",
    "    result = comprehend.describe_topics_detection_job(JobId=job_id)\n",
    "    job_status = result[\"TopicsDetectionJobProperties\"][\"JobStatus\"]\n",
    "\n",
    "    if job_status in ['COMPLETED', 'FAILED']:\n",
    "        print(\"job_status: \" + job_status)\n",
    "        break\n",
    "    else:\n",
    "        print(\"job_status: \" + job_status)\n",
    "        time.sleep(60)"
   ]
  },
  {
   "cell_type": "code",
   "execution_count": null,
   "metadata": {},
   "outputs": [],
   "source": [
    "# https://docs.aws.amazon.com/es_es/comprehend/latest/dg/get-started-topics.html\n",
    "import boto3\n",
    "import json\n",
    "from bson import json_util\n",
    " \n",
    "comprehend = boto3.client(service_name='comprehend', region_name='region')\n",
    "                \n",
    "input_s3_url = \"s3://input bucket/input path\"\n",
    "input_doc_format = \"ONE_DOC_PER_FILE\"\n",
    "output_s3_url = \"s3://output bucket/output path\"\n",
    "data_access_role_arn = \"arn:aws:iam::account ID:role/data access role\"\n",
    "number_of_topics = 10\n",
    " \n",
    "input_data_config = {\"S3Uri\": input_s3_url, \"InputFormat\": input_doc_format}\n",
    "output_data_config = {\"S3Uri\": output_s3_url}\n",
    " \n",
    "start_topics_detection_job_result = comprehend.start_topics_detection_job(NumberOfTopics=number_of_topics,\n",
    "                                                                              InputDataConfig=input_data_config,\n",
    "                                                                              OutputDataConfig=output_data_config,\n",
    "                                                                              DataAccessRoleArn=data_access_role_arn)\n",
    " \n",
    "print('start_topics_detection_job_result: ' + json.dumps(start_topics_detection_job_result))\n",
    " \n",
    "job_id = start_topics_detection_job_result[\"JobId\"]\n",
    " \n",
    "print('job_id: ' + job_id)\n",
    " \n",
    "describe_topics_detection_job_result = comprehend.describe_topics_detection_job(JobId=job_id)\n",
    " \n",
    "print('describe_topics_detection_job_result: ' + json.dumps(describe_topics_detection_job_result, default=json_util.default))\n",
    " \n",
    "list_topics_detection_jobs_result = comprehend.list_topics_detection_jobs()\n",
    " \n",
    "print('list_topics_detection_jobs_result: ' + json.dumps(list_topics_detection_jobs_result, default=json_util.default))"
   ]
  }
 ],
 "metadata": {
  "kernelspec": {
   "display_name": "conda_python3",
   "language": "python",
   "name": "conda_python3"
  },
  "language_info": {
   "codemirror_mode": {
    "name": "ipython",
    "version": 3
   },
   "file_extension": ".py",
   "mimetype": "text/x-python",
   "name": "python",
   "nbconvert_exporter": "python",
   "pygments_lexer": "ipython3",
   "version": "3.6.5"
  }
 },
 "nbformat": 4,
 "nbformat_minor": 4
}
